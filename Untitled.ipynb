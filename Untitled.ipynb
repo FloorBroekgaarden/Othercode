{
 "cells": [
  {
   "cell_type": "code",
   "execution_count": 4,
   "id": "a81f8682",
   "metadata": {},
   "outputs": [
    {
     "name": "stderr",
     "output_type": "stream",
     "text": [
      "/var/folders/lc/vg4hc2nn2pn05y4lw3h5wmpm0000gn/T/ipykernel_52670/385501761.py:11: DeprecationWarning: Importing display from IPython.core.display is deprecated since IPython 7.14, please import from IPython display\n",
      "  from IPython.core.display import display, HTML\n"
     ]
    },
    {
     "data": {
      "text/html": [
       "<style>.container { width:100% !important; }</style>"
      ],
      "text/plain": [
       "<IPython.core.display.HTML object>"
      ]
     },
     "metadata": {},
     "output_type": "display_data"
    }
   ],
   "source": [
    "import sys\n",
    "\n",
    "\n",
    "sys.path.append('../common_code')\n",
    "\n",
    "# # for reading datafiles \n",
    "import pandas as pd\n",
    "# import script that has many standard functions:\n",
    "from PostProcessingScripts import * \n",
    "\n",
    "from IPython.core.display import display, HTML\n",
    "display(HTML(\"<style>.container { width:100% !important; }</style>\"))\n",
    "\n",
    "\n",
    "from astropy import constants as c\n",
    "from astropy import units as u"
   ]
  },
  {
   "cell_type": "code",
   "execution_count": 5,
   "id": "9c16ff03",
   "metadata": {},
   "outputs": [
    {
     "name": "stdout",
     "output_type": "stream",
     "text": [
      "  Name   = Speed of light in vacuum\n",
      "  Value  = 299792458.0\n",
      "  Uncertainty  = 0.0\n",
      "  Unit  = m / s\n",
      "  Reference = CODATA 2018\n"
     ]
    }
   ],
   "source": [
    "print(c.c)"
   ]
  },
  {
   "cell_type": "code",
   "execution_count": 17,
   "id": "b26bec29",
   "metadata": {},
   "outputs": [
    {
     "name": "stdout",
     "output_type": "stream",
     "text": [
      "7690466043.750897 solMass3 yr / solRad4\n"
     ]
    }
   ],
   "source": [
    "Constant = c.c**5/c.G**3\n",
    "print(Constant.to(u.Msun**3 *u.year / u.R_sun**4))"
   ]
  },
  {
   "cell_type": "code",
   "execution_count": 12,
   "id": "f9cfa80e",
   "metadata": {},
   "outputs": [],
   "source": [
    "new = Constant.to(u.Msun *u.year / u.R_sun**2) "
   ]
  },
  {
   "cell_type": "code",
   "execution_count": 14,
   "id": "44c58b7b",
   "metadata": {},
   "outputs": [
    {
     "data": {
      "text/latex": [
       "$0.00067667347 \\; \\mathrm{\\frac{M_{\\odot}\\,yr}{R_{\\odot}^{2}}}$"
      ],
      "text/plain": [
       "<Quantity 0.00067667 solMass yr / solRad2>"
      ]
     },
     "execution_count": 14,
     "metadata": {},
     "output_type": "execute_result"
    }
   ],
   "source": [
    "new*(5/256)"
   ]
  },
  {
   "cell_type": "code",
   "execution_count": null,
   "id": "69c5400a",
   "metadata": {},
   "outputs": [],
   "source": []
  }
 ],
 "metadata": {
  "kernelspec": {
   "display_name": "Python 3",
   "language": "python",
   "name": "python3"
  },
  "language_info": {
   "codemirror_mode": {
    "name": "ipython",
    "version": 3
   },
   "file_extension": ".py",
   "mimetype": "text/x-python",
   "name": "python",
   "nbconvert_exporter": "python",
   "pygments_lexer": "ipython3",
   "version": "3.11.1"
  }
 },
 "nbformat": 4,
 "nbformat_minor": 5
}
